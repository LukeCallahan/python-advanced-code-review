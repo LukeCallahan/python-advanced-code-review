{
 "cells": [
  {
   "cell_type": "markdown",
   "metadata": {},
   "source": [
    "Instructions:\n",
    "Use Python's Faker library to generate a list of twenty colors. Call it color_list.\n",
    "\n"
   ]
  },
  {
   "cell_type": "code",
   "execution_count": 32,
   "metadata": {},
   "outputs": [
    {
     "name": "stdout",
     "output_type": "stream",
     "text": [
      "['PaleTurquoise', 'Black', 'MediumPurple', 'Cornsilk', 'SteelBlue', 'Salmon', 'BurlyWood', 'Gold', 'LightCoral', 'Blue', 'RosyBrown', 'PaleVioletRed', 'Linen', 'Orange', 'SaddleBrown', 'FloralWhite', 'Khaki', 'BlueViolet', 'Cornsilk', 'PaleGreen']\n"
     ]
    }
   ],
   "source": [
    "from faker import Faker\n",
    "import json\n",
    "\n",
    "new_fake = Faker()\n",
    "\n",
    "color_list = []\n",
    "for color in range(20):\n",
    "  new_color = new_fake.color_name()\n",
    "  color_list.append(new_color)\n",
    "print(color_list)\n"
   ]
  },
  {
   "cell_type": "markdown",
   "metadata": {},
   "source": [
    "\n",
    "Write a function called remove_dups to remove any duplicates from color_list.\n"
   ]
  },
  {
   "cell_type": "code",
   "execution_count": 33,
   "metadata": {},
   "outputs": [
    {
     "name": "stdout",
     "output_type": "stream",
     "text": [
      "['PaleGreen', 'RosyBrown', 'LightCoral', 'SteelBlue', 'Blue', 'Cornsilk', 'PaleVioletRed', 'Salmon', 'Khaki', 'FloralWhite', 'Linen', 'BlueViolet', 'Black', 'Gold', 'PaleTurquoise', 'Orange', 'BurlyWood', 'MediumPurple', 'SaddleBrown']\n"
     ]
    }
   ],
   "source": [
    "def remove_dups(your_list):\n",
    "  new_set = set(your_list)\n",
    "  new_fake.new_list = list(new_set)\n",
    "   \n",
    "\n",
    "remove_dups(color_list)\n",
    "print(new_fake.new_list)\n"
   ]
  },
  {
   "cell_type": "markdown",
   "metadata": {},
   "source": [
    "Once color_list only has unique values (no duplicates) use a dictionary comprehension to create a dictionary from it. Each key should be the name of the color, and its value should be the length of the name. Call it color_dict.\n",
    "\n",
    "For instance, the list [\"pink\"] would create the dictionary {\"pink\": 4}, because the word \"pink\" has four letters."
   ]
  },
  {
   "cell_type": "code",
   "execution_count": 34,
   "metadata": {},
   "outputs": [
    {
     "name": "stdout",
     "output_type": "stream",
     "text": [
      "{'Yellow': 6, 'PaleGoldenRod': 13, 'LightSlateGray': 14, 'DarkBlue': 8, 'Silver': 6, 'DarkTurquoise': 13, 'Cornsilk': 8, 'LightYellow': 11, 'Violet': 6, 'DarkCyan': 8, 'MediumAquaMarine': 16, 'BlanchedAlmond': 14, 'Black': 5, 'DarkOliveGreen': 14, 'SeaShell': 8, 'LightBlue': 9, 'LightSeaGreen': 13, 'Brown': 5, 'DarkViolet': 10}\n"
     ]
    }
   ],
   "source": [
    "\n",
    "color_dict = {key : len(key) for key in new_fake.new_list}\n",
    "print(new_dict)"
   ]
  },
  {
   "cell_type": "markdown",
   "metadata": {},
   "source": [
    "Write color_dict into a JSON file. Include this file in your GitHub repository."
   ]
  },
  {
   "cell_type": "code",
   "execution_count": 35,
   "metadata": {},
   "outputs": [],
   "source": [
    "with open(\"./colors.json\", \"w\") as colors_json:\n",
    "  json.dump(color_dict, colors_json)"
   ]
  },
  {
   "cell_type": "markdown",
   "metadata": {},
   "source": [
    "Read the color_dict back out of the JSON file. If the value is 4 or more, print a string saying the color name and the length of the name.\n"
   ]
  },
  {
   "cell_type": "code",
   "execution_count": 44,
   "metadata": {},
   "outputs": [
    {
     "name": "stdout",
     "output_type": "stream",
     "text": [
      "Color: PaleGreen, Length: 9\n",
      "Color: RosyBrown, Length: 9\n",
      "Color: LightCoral, Length: 10\n",
      "Color: SteelBlue, Length: 9\n",
      "Color: Blue, Length: 4\n",
      "Color: Cornsilk, Length: 8\n",
      "Color: PaleVioletRed, Length: 13\n",
      "Color: Salmon, Length: 6\n",
      "Color: Khaki, Length: 5\n",
      "Color: FloralWhite, Length: 11\n",
      "Color: Linen, Length: 5\n",
      "Color: BlueViolet, Length: 10\n",
      "Color: Black, Length: 5\n",
      "Color: Gold, Length: 4\n",
      "Color: PaleTurquoise, Length: 13\n",
      "Color: Orange, Length: 6\n",
      "Color: BurlyWood, Length: 9\n",
      "Color: MediumPurple, Length: 12\n",
      "Color: SaddleBrown, Length: 11\n"
     ]
    }
   ],
   "source": [
    "with open(\"./colors.json\", \"r\") as colors_json:\n",
    "  colors = json.load(colors_json)\n",
    "for color, length in colors.items():\n",
    "  if length >= 4:\n",
    "    print(f\"Color: {color}, Length: {length}\")"
   ]
  },
  {
   "cell_type": "markdown",
   "metadata": {},
   "source": [
    "Make a file called test_remove_dups.py. In it, use @pytest.mark.parametrize() to test remove_dups() with a list containing duplicates, an empty list, and a string."
   ]
  }
 ],
 "metadata": {
  "kernelspec": {
   "display_name": "Python 3.7.15 ('venv': venv)",
   "language": "python",
   "name": "python3"
  },
  "language_info": {
   "codemirror_mode": {
    "name": "ipython",
    "version": 3
   },
   "file_extension": ".py",
   "mimetype": "text/x-python",
   "name": "python",
   "nbconvert_exporter": "python",
   "pygments_lexer": "ipython3",
   "version": "3.7.15"
  },
  "orig_nbformat": 4,
  "vscode": {
   "interpreter": {
    "hash": "5490aa5bee1661ad895e2f8d025414211ef5f4812256ac97a8f70ec22a3cb098"
   }
  }
 },
 "nbformat": 4,
 "nbformat_minor": 2
}
